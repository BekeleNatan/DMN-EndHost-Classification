{
 "cells": [
  {
   "cell_type": "code",
   "execution_count": 1,
   "metadata": {},
   "outputs": [
    {
     "ename": "SyntaxError",
     "evalue": "invalid syntax (kocay_algorithm.py, line 1061)",
     "output_type": "error",
     "traceback": [
      "Traceback \u001b[0;36m(most recent call last)\u001b[0m:\n",
      "  File \u001b[1;32m\"/home/sami/anaconda3/lib/python3.6/site-packages/IPython/core/interactiveshell.py\"\u001b[0m, line \u001b[1;32m2963\u001b[0m, in \u001b[1;35mrun_code\u001b[0m\n    exec(code_obj, self.user_global_ns, self.user_ns)\n",
      "  File \u001b[1;32m\"<ipython-input-1-89d360356a7a>\"\u001b[0m, line \u001b[1;32m6\u001b[0m, in \u001b[1;35m<module>\u001b[0m\n    from pygraph.kernels.randomWalkKernel import randomwalkkernelnel\n",
      "  File \u001b[1;32m\"/home/sami/anaconda3/lib/python3.6/site-packages/pygraph/__init__.py\"\u001b[0m, line \u001b[1;32m5\u001b[0m, in \u001b[1;35m<module>\u001b[0m\n    from .functions import (a_star_search,\n",
      "  File \u001b[1;32m\"/home/sami/anaconda3/lib/python3.6/site-packages/pygraph/functions/__init__.py\"\u001b[0m, line \u001b[1;32m13\u001b[0m, in \u001b[1;35m<module>\u001b[0m\n    from .planarity import is_planar\n",
      "  File \u001b[1;32m\"/home/sami/anaconda3/lib/python3.6/site-packages/pygraph/functions/planarity/__init__.py\"\u001b[0m, line \u001b[1;32m1\u001b[0m, in \u001b[1;35m<module>\u001b[0m\n    from .functions import is_planar\n",
      "\u001b[0;36m  File \u001b[0;32m\"/home/sami/anaconda3/lib/python3.6/site-packages/pygraph/functions/planarity/functions.py\"\u001b[0;36m, line \u001b[0;32m6\u001b[0;36m, in \u001b[0;35m<module>\u001b[0;36m\u001b[0m\n\u001b[0;31m    from .kocay_algorithm import kocay_planarity_test\u001b[0m\n",
      "\u001b[0;36m  File \u001b[0;32m\"/home/sami/anaconda3/lib/python3.6/site-packages/pygraph/functions/planarity/kocay_algorithm.py\"\u001b[0;36m, line \u001b[0;32m1061\u001b[0m\n\u001b[0;31m    except Exception, e:\u001b[0m\n\u001b[0m                    ^\u001b[0m\n\u001b[0;31mSyntaxError\u001b[0m\u001b[0;31m:\u001b[0m invalid syntax\n"
     ]
    }
   ],
   "source": [
    "%load_ext autoreload\n",
    "%autoreload 2\n",
    "from ProfileBuilder import Graphlet\n",
    "\n",
    "from CustomRWKernel import compute_random_walk_kernel\n",
    "from pygraph.kernels.randomWalkKernel import randomwalkkernelnel\n",
    "\n",
    "import matplotlib.pyplot as plt\n",
    "from sklearn import svm, datasets\n",
    "from pygraph.kernels.randomWalkKernel import randomwalkkernel\n",
    "import numpy as np"
   ]
  },
  {
   "cell_type": "code",
   "execution_count": null,
   "metadata": {},
   "outputs": [],
   "source": [
    "graphlet = Graphlet('data/annotated-trace.csv')"
   ]
  },
  {
   "cell_type": "code",
   "execution_count": null,
   "metadata": {},
   "outputs": [],
   "source": [
    "graphlet.activity_graphlets"
   ]
  },
  {
   "cell_type": "code",
   "execution_count": null,
   "metadata": {},
   "outputs": [],
   "source": [
    "X = graphlet.activity_graphlets\n",
    "y = graphlet.get_graphlets_label()\n",
    "y =[0 if el=='normal' else 1 for el in y]"
   ]
  },
  {
   "cell_type": "code",
   "execution_count": null,
   "metadata": {},
   "outputs": [],
   "source": [
    "gram_matrix = np.zeros((len(X[:50]), len(X[:50])))\n",
    "for i in range(len(X[:50])):\n",
    "    for j in range(len(X[:50])):\n",
    "        gram_matrix[i][j] = compute_random_walk_kernel(X[i], X[j])\n",
    "    if i % 4 == 0 : print(i)"
   ]
  },
  {
   "cell_type": "code",
   "execution_count": null,
   "metadata": {},
   "outputs": [],
   "source": [
    "compute_random_walk_kernel(graphlet.activity_graphlets[0], graphlet.activity_graphlets[1])"
   ]
  },
  {
   "cell_type": "code",
   "execution_count": null,
   "metadata": {},
   "outputs": [],
   "source": [
    "#custom_kernel\n",
    "clf = svm.SVC(kernel=\"precomputed\")\n"
   ]
  },
  {
   "cell_type": "code",
   "execution_count": null,
   "metadata": {},
   "outputs": [],
   "source": [
    "clf.fit(gram_matrix, y[:50])"
   ]
  },
  {
   "cell_type": "code",
   "execution_count": null,
   "metadata": {},
   "outputs": [],
   "source": [
    "clf.predict(gram_matrix)"
   ]
  },
  {
   "cell_type": "code",
   "execution_count": null,
   "metadata": {},
   "outputs": [],
   "source": [
    "print(gram_matrix)"
   ]
  },
  {
   "cell_type": "code",
   "execution_count": null,
   "metadata": {},
   "outputs": [],
   "source": [
    "for l in X:\n",
    "    if 36!=len(l):print(len(l))"
   ]
  },
  {
   "cell_type": "code",
   "execution_count": null,
   "metadata": {},
   "outputs": [],
   "source": [
    "for l"
   ]
  },
  {
   "cell_type": "code",
   "execution_count": 2,
   "metadata": {},
   "outputs": [
    {
     "name": "stdout",
     "output_type": "stream",
     "text": [
      "Collecting slycot\n",
      "\u001b[?25l  Downloading https://files.pythonhosted.org/packages/ae/9d/7ed3f2abf08aab0be9ac2b67e3040c20d9c594cce6a4af2203da0c28a6c4/slycot-0.3.5.0.tar.gz (1.5MB)\n",
      "\u001b[K     |████████████████████████████████| 1.5MB 2.1MB/s eta 0:00:01\n",
      "\u001b[?25h  Installing build dependencies ... \u001b[?25ldone\n",
      "\u001b[?25h  Getting requirements to build wheel ... \u001b[?25ldone\n",
      "\u001b[?25h    Preparing wheel metadata ... \u001b[?25ldone\n",
      "\u001b[?25hRequirement already satisfied: numpy in /home/sami/.local/lib/python3.6/site-packages (from slycot) (1.17.2)\n",
      "Building wheels for collected packages: slycot\n",
      "  Building wheel for slycot (PEP 517) ... \u001b[?25lerror\n",
      "\u001b[31m  ERROR: Command errored out with exit status 1:\n",
      "   command: /home/sami/anaconda3/bin/python /home/sami/anaconda3/lib/python3.6/site-packages/pip/_vendor/pep517/_in_process.py build_wheel /tmp/tmpu586jnyh\n",
      "       cwd: /tmp/pip-install-qmtx66eh/slycot\n",
      "  Complete output (84 lines):\n",
      "  Not searching for unused variables given on the command line.\n",
      "  CMake Error: CMake was unable to find a build program corresponding to \"Ninja\".  CMAKE_MAKE_PROGRAM is not set.  You probably need to select a different build tool.\n",
      "  -- Configuring incomplete, errors occurred!\n",
      "  See also \"/tmp/pip-install-qmtx66eh/slycot/_cmake_test_compile/build/CMakeFiles/CMakeOutput.log\".\n",
      "  Not searching for unused variables given on the command line.\n",
      "  -- The C compiler identification is GNU 7.4.0\n",
      "  -- Check for working C compiler: /usr/bin/cc\n",
      "  -- Check for working C compiler: /usr/bin/cc -- works\n",
      "  -- Detecting C compiler ABI info\n",
      "  -- Detecting C compiler ABI info - done\n",
      "  -- Detecting C compile features\n",
      "  -- Detecting C compile features - done\n",
      "  -- The Fortran compiler identification is unknown\n",
      "  CMake Error at CMakeLists.txt:4 (ENABLE_LANGUAGE):\n",
      "    No CMAKE_Fortran_COMPILER could be found.\n",
      "  \n",
      "    Tell CMake where to find the compiler by setting either the environment\n",
      "    variable \"FC\" or the CMake cache entry CMAKE_Fortran_COMPILER to the full\n",
      "    path to the compiler, or to the compiler name if it is in the PATH.\n",
      "  \n",
      "  \n",
      "  -- Configuring incomplete, errors occurred!\n",
      "  See also \"/tmp/pip-install-qmtx66eh/slycot/_cmake_test_compile/build/CMakeFiles/CMakeOutput.log\".\n",
      "  See also \"/tmp/pip-install-qmtx66eh/slycot/_cmake_test_compile/build/CMakeFiles/CMakeError.log\".\n",
      "  \n",
      "  \n",
      "  --------------------------------------------------------------------------------\n",
      "  -- Trying \"Ninja\" generator\n",
      "  --------------------------------\n",
      "  ---------------------------\n",
      "  ----------------------\n",
      "  -----------------\n",
      "  ------------\n",
      "  -------\n",
      "  --\n",
      "  --\n",
      "  -------\n",
      "  ------------\n",
      "  -----------------\n",
      "  ----------------------\n",
      "  ---------------------------\n",
      "  --------------------------------\n",
      "  -- Trying \"Ninja\" generator - failure\n",
      "  --------------------------------------------------------------------------------\n",
      "  \n",
      "  \n",
      "  \n",
      "  --------------------------------------------------------------------------------\n",
      "  -- Trying \"Unix Makefiles\" generator\n",
      "  --------------------------------\n",
      "  ---------------------------\n",
      "  ----------------------\n",
      "  -----------------\n",
      "  ------------\n",
      "  -------\n",
      "  --\n",
      "  --\n",
      "  -------\n",
      "  ------------\n",
      "  -----------------\n",
      "  ----------------------\n",
      "  ---------------------------\n",
      "  --------------------------------\n",
      "  -- Trying \"Unix Makefiles\" generator - failure\n",
      "  --------------------------------------------------------------------------------\n",
      "  \n",
      "  ********************************************************************************\n",
      "  scikit-build could not get a working generator for your system. Aborting build.\n",
      "  \n",
      "  Building Linux wheels for Python 3.6 requires a compiler (e.g gcc).\n",
      "  It can be installed using debian package manager:\n",
      "  \n",
      "    sudo apt-get install build-essential\n",
      "  \n",
      "  To build compliant wheels, consider using the manylinux system described in PEP-513.\n",
      "  Get it with \"dockcross/manylinux-x64\" docker image:\n",
      "  \n",
      "    https://github.com/dockcross/dockcross#readme\n",
      "  \n",
      "  For more details, please refer to scikit-build documentation:\n",
      "  \n",
      "    http://scikit-build.readthedocs.io/en/latest/generators.html#linux\n",
      "  \n",
      "  ********************************************************************************\n",
      "  ----------------------------------------\u001b[0m\n",
      "\u001b[31m  ERROR: Failed building wheel for slycot\u001b[0m\n",
      "\u001b[?25h  Running setup.py clean for slycot\n",
      "Failed to build slycot\n",
      "\u001b[31mERROR: Could not build wheels for slycot which use PEP 517 and cannot be installed directly\u001b[0m\n"
     ]
    }
   ],
   "source": [
    "!pip install slycot"
   ]
  },
  {
   "cell_type": "code",
   "execution_count": null,
   "metadata": {},
   "outputs": [],
   "source": []
  }
 ],
 "metadata": {
  "kernelspec": {
   "display_name": "Python 3",
   "language": "python",
   "name": "python3"
  },
  "language_info": {
   "codemirror_mode": {
    "name": "ipython",
    "version": 3
   },
   "file_extension": ".py",
   "mimetype": "text/x-python",
   "name": "python",
   "nbconvert_exporter": "python",
   "pygments_lexer": "ipython3",
   "version": "3.6.9"
  }
 },
 "nbformat": 4,
 "nbformat_minor": 4
}
